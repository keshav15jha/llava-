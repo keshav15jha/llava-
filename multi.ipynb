{
 "cells": [
  {
   "cell_type": "code",
   "execution_count": 18,
   "metadata": {},
   "outputs": [],
   "source": [
    "from PIL import Image\n",
    "import ollama\n",
    "import json"
   ]
  },
  {
   "cell_type": "code",
   "execution_count": 19,
   "metadata": {},
   "outputs": [],
   "source": [
    "def generate_text(instruction, file_path, output_json):\n",
    "    try:\n",
    "        # Call the ollama generate function\n",
    "        result = ollama.generate(\n",
    "            model='llava',\n",
    "            prompt=instruction,\n",
    "            images=[file_path],\n",
    "            stream=False\n",
    "        )['response']\n",
    "        \n",
    "        # Save the result to JSON\n",
    "        data = {\"instruction\": instruction, \"file_path\": file_path, \"generated_text\": result}\n",
    "        with open(output_json, 'w') as json_file:\n",
    "            json.dump(data, json_file, indent=4)\n",
    "        \n",
    "        # Feedback and display success\n",
    "        print(f\"Generated text saved to {output_json}\")\n",
    "        return data\n",
    "    \n",
    "    except Exception as e:\n",
    "        print(f\"Error: {e}\")\n",
    "        return None\n"
   ]
  },
  {
   "cell_type": "code",
   "execution_count": 20,
   "metadata": {},
   "outputs": [],
   "source": [
    "img = Image.open('car.jpg')\n",
    "img = img.resize((224, 224))\n",
    "img.save('car_converted.jpg', format='JPEG')"
   ]
  },
  {
   "cell_type": "code",
   "execution_count": 21,
   "metadata": {},
   "outputs": [
    {
     "name": "stdout",
     "output_type": "stream",
     "text": [
      "Generated text saved to generated_text.json\n"
     ]
    },
    {
     "data": {
      "text/plain": [
       "{'instruction': 'Explain what is in this image',\n",
       " 'file_path': 'car_converted.jpg',\n",
       " 'generated_text': \" The image features a modern electric hypercar parked on the side of a road. The car is sleek and low-slung, with a distinctive design that includes large air intakes at the front, aggressive aerodynamics, and a prominent rear wing. Its bodywork appears to be a combination of dark colors with blue highlights, giving it a futuristic look.\\n\\nThe vehicle is positioned in front of the Eiffel Tower, which suggests that this photo was taken in Paris. The cityscape in the background includes other iconic structures like the Seine River and buildings characteristic of Parisian architecture. The overall setting indicates that this car might be on display for an event or exhibition.\\n\\nThe image is stylized with a focus on the vehicle, emphasizing its speed and elegance through its design elements and the high-profile location in which it's parked. \"}"
      ]
     },
     "execution_count": 21,
     "metadata": {},
     "output_type": "execute_result"
    }
   ],
   "source": [
    "instruction = \"Explain what is in this image\"\n",
    "file_path = 'car_converted.jpg'\n",
    "output_json = 'generated_text.json'\n",
    "\n",
    "# Call the function\n",
    "generate_text(instruction, file_path, output_json)"
   ]
  },
  {
   "cell_type": "code",
   "execution_count": null,
   "metadata": {},
   "outputs": [],
   "source": []
  }
 ],
 "metadata": {
  "kernelspec": {
   "display_name": "Python 3",
   "language": "python",
   "name": "python3"
  },
  "language_info": {
   "codemirror_mode": {
    "name": "ipython",
    "version": 3
   },
   "file_extension": ".py",
   "mimetype": "text/x-python",
   "name": "python",
   "nbconvert_exporter": "python",
   "pygments_lexer": "ipython3",
   "version": "3.10.9"
  }
 },
 "nbformat": 4,
 "nbformat_minor": 2
}
